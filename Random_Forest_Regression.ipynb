{
 "cells": [
  {
   "cell_type": "markdown",
   "id": "8379dda2-557e-46cd-9f43-9c027ec642c6",
   "metadata": {},
   "source": [
    "# Random_Forest_Regression"
   ]
  },
  {
   "cell_type": "code",
   "execution_count": 3,
   "id": "d31ba0af-4cbe-4293-a08e-40d64f6a57d7",
   "metadata": {},
   "outputs": [],
   "source": [
    "import pandas as pd\n",
    "import numpy as np"
   ]
  },
  {
   "cell_type": "code",
   "execution_count": 5,
   "id": "3fbfc1ae-d1a6-46a9-8ac0-2975e7578c0b",
   "metadata": {},
   "outputs": [
    {
     "data": {
      "text/html": [
       "<div>\n",
       "<style scoped>\n",
       "    .dataframe tbody tr th:only-of-type {\n",
       "        vertical-align: middle;\n",
       "    }\n",
       "\n",
       "    .dataframe tbody tr th {\n",
       "        vertical-align: top;\n",
       "    }\n",
       "\n",
       "    .dataframe thead th {\n",
       "        text-align: right;\n",
       "    }\n",
       "</style>\n",
       "<table border=\"1\" class=\"dataframe\">\n",
       "  <thead>\n",
       "    <tr style=\"text-align: right;\">\n",
       "      <th></th>\n",
       "      <th>bath</th>\n",
       "      <th>balcony</th>\n",
       "      <th>price</th>\n",
       "      <th>total_sqft_int</th>\n",
       "      <th>bhk</th>\n",
       "      <th>price_per_sqft</th>\n",
       "      <th>area_typeSuper built-up  Area</th>\n",
       "      <th>area_typeBuilt-up  Area</th>\n",
       "      <th>area_typePlot  Area</th>\n",
       "      <th>availability_Ready To Move</th>\n",
       "      <th>...</th>\n",
       "      <th>location_Kalena Agrahara</th>\n",
       "      <th>location_Horamavu Agara</th>\n",
       "      <th>location_Vidyaranyapura</th>\n",
       "      <th>location_BTM 2nd Stage</th>\n",
       "      <th>location_Hebbal Kempapura</th>\n",
       "      <th>location_Hosur Road</th>\n",
       "      <th>location_Horamavu Banaswadi</th>\n",
       "      <th>location_Domlur</th>\n",
       "      <th>location_Mahadevpura</th>\n",
       "      <th>location_Tumkur Road</th>\n",
       "    </tr>\n",
       "  </thead>\n",
       "  <tbody>\n",
       "    <tr>\n",
       "      <th>0</th>\n",
       "      <td>3.0</td>\n",
       "      <td>2.0</td>\n",
       "      <td>150.0</td>\n",
       "      <td>1672.0</td>\n",
       "      <td>3</td>\n",
       "      <td>8971.291866</td>\n",
       "      <td>1</td>\n",
       "      <td>0</td>\n",
       "      <td>0</td>\n",
       "      <td>1</td>\n",
       "      <td>...</td>\n",
       "      <td>0</td>\n",
       "      <td>0</td>\n",
       "      <td>0</td>\n",
       "      <td>0</td>\n",
       "      <td>0</td>\n",
       "      <td>0</td>\n",
       "      <td>0</td>\n",
       "      <td>0</td>\n",
       "      <td>0</td>\n",
       "      <td>0</td>\n",
       "    </tr>\n",
       "    <tr>\n",
       "      <th>1</th>\n",
       "      <td>3.0</td>\n",
       "      <td>3.0</td>\n",
       "      <td>149.0</td>\n",
       "      <td>1750.0</td>\n",
       "      <td>3</td>\n",
       "      <td>8514.285714</td>\n",
       "      <td>0</td>\n",
       "      <td>1</td>\n",
       "      <td>0</td>\n",
       "      <td>1</td>\n",
       "      <td>...</td>\n",
       "      <td>0</td>\n",
       "      <td>0</td>\n",
       "      <td>0</td>\n",
       "      <td>0</td>\n",
       "      <td>0</td>\n",
       "      <td>0</td>\n",
       "      <td>0</td>\n",
       "      <td>0</td>\n",
       "      <td>0</td>\n",
       "      <td>0</td>\n",
       "    </tr>\n",
       "    <tr>\n",
       "      <th>2</th>\n",
       "      <td>3.0</td>\n",
       "      <td>2.0</td>\n",
       "      <td>150.0</td>\n",
       "      <td>1750.0</td>\n",
       "      <td>3</td>\n",
       "      <td>8571.428571</td>\n",
       "      <td>1</td>\n",
       "      <td>0</td>\n",
       "      <td>0</td>\n",
       "      <td>1</td>\n",
       "      <td>...</td>\n",
       "      <td>0</td>\n",
       "      <td>0</td>\n",
       "      <td>0</td>\n",
       "      <td>0</td>\n",
       "      <td>0</td>\n",
       "      <td>0</td>\n",
       "      <td>0</td>\n",
       "      <td>0</td>\n",
       "      <td>0</td>\n",
       "      <td>0</td>\n",
       "    </tr>\n",
       "    <tr>\n",
       "      <th>3</th>\n",
       "      <td>2.0</td>\n",
       "      <td>2.0</td>\n",
       "      <td>40.0</td>\n",
       "      <td>1250.0</td>\n",
       "      <td>2</td>\n",
       "      <td>3200.000000</td>\n",
       "      <td>1</td>\n",
       "      <td>0</td>\n",
       "      <td>0</td>\n",
       "      <td>1</td>\n",
       "      <td>...</td>\n",
       "      <td>0</td>\n",
       "      <td>0</td>\n",
       "      <td>0</td>\n",
       "      <td>0</td>\n",
       "      <td>0</td>\n",
       "      <td>0</td>\n",
       "      <td>0</td>\n",
       "      <td>0</td>\n",
       "      <td>0</td>\n",
       "      <td>0</td>\n",
       "    </tr>\n",
       "    <tr>\n",
       "      <th>4</th>\n",
       "      <td>2.0</td>\n",
       "      <td>2.0</td>\n",
       "      <td>83.0</td>\n",
       "      <td>1200.0</td>\n",
       "      <td>2</td>\n",
       "      <td>6916.666667</td>\n",
       "      <td>0</td>\n",
       "      <td>0</td>\n",
       "      <td>1</td>\n",
       "      <td>1</td>\n",
       "      <td>...</td>\n",
       "      <td>0</td>\n",
       "      <td>0</td>\n",
       "      <td>0</td>\n",
       "      <td>0</td>\n",
       "      <td>0</td>\n",
       "      <td>0</td>\n",
       "      <td>0</td>\n",
       "      <td>0</td>\n",
       "      <td>0</td>\n",
       "      <td>0</td>\n",
       "    </tr>\n",
       "  </tbody>\n",
       "</table>\n",
       "<p>5 rows × 108 columns</p>\n",
       "</div>"
      ],
      "text/plain": [
       "   bath  balcony  price  total_sqft_int  bhk  price_per_sqft  \\\n",
       "0   3.0      2.0  150.0          1672.0    3     8971.291866   \n",
       "1   3.0      3.0  149.0          1750.0    3     8514.285714   \n",
       "2   3.0      2.0  150.0          1750.0    3     8571.428571   \n",
       "3   2.0      2.0   40.0          1250.0    2     3200.000000   \n",
       "4   2.0      2.0   83.0          1200.0    2     6916.666667   \n",
       "\n",
       "   area_typeSuper built-up  Area  area_typeBuilt-up  Area  \\\n",
       "0                              1                        0   \n",
       "1                              0                        1   \n",
       "2                              1                        0   \n",
       "3                              1                        0   \n",
       "4                              0                        0   \n",
       "\n",
       "   area_typePlot  Area  availability_Ready To Move  ...  \\\n",
       "0                    0                           1  ...   \n",
       "1                    0                           1  ...   \n",
       "2                    0                           1  ...   \n",
       "3                    0                           1  ...   \n",
       "4                    1                           1  ...   \n",
       "\n",
       "   location_Kalena Agrahara  location_Horamavu Agara  location_Vidyaranyapura  \\\n",
       "0                         0                        0                        0   \n",
       "1                         0                        0                        0   \n",
       "2                         0                        0                        0   \n",
       "3                         0                        0                        0   \n",
       "4                         0                        0                        0   \n",
       "\n",
       "   location_BTM 2nd Stage  location_Hebbal Kempapura  location_Hosur Road  \\\n",
       "0                       0                          0                    0   \n",
       "1                       0                          0                    0   \n",
       "2                       0                          0                    0   \n",
       "3                       0                          0                    0   \n",
       "4                       0                          0                    0   \n",
       "\n",
       "   location_Horamavu Banaswadi  location_Domlur  location_Mahadevpura  \\\n",
       "0                            0                0                     0   \n",
       "1                            0                0                     0   \n",
       "2                            0                0                     0   \n",
       "3                            0                0                     0   \n",
       "4                            0                0                     0   \n",
       "\n",
       "   location_Tumkur Road  \n",
       "0                     0  \n",
       "1                     0  \n",
       "2                     0  \n",
       "3                     0  \n",
       "4                     0  \n",
       "\n",
       "[5 rows x 108 columns]"
      ]
     },
     "execution_count": 5,
     "metadata": {},
     "output_type": "execute_result"
    }
   ],
   "source": [
    "df=pd.read_csv(\"C:\\\\Users\\\\HP\\\\Downloads\\\\bangalore house price prediction OHE-data (1).csv\")\n",
    "df.head()"
   ]
  },
  {
   "cell_type": "code",
   "execution_count": 7,
   "id": "d1ab1095-a520-4ff0-956c-0d0f2f36d596",
   "metadata": {},
   "outputs": [
    {
     "name": "stdout",
     "output_type": "stream",
     "text": [
      "Shape of X (7120, 107)\n",
      "Shape of y (7120,)\n"
     ]
    }
   ],
   "source": [
    "X=df.drop('price',axis=1)\n",
    "y=df['price']\n",
    "print('Shape of X',X.shape)\n",
    "print('Shape of y',y.shape)"
   ]
  },
  {
   "cell_type": "code",
   "execution_count": 9,
   "id": "4256b7b5-799f-45c9-b40a-857fd6e2a7c6",
   "metadata": {},
   "outputs": [
    {
     "name": "stdout",
     "output_type": "stream",
     "text": [
      "Shape of X_train (5696, 107)\n",
      "Shape of y_train (5696,)\n",
      "Shape of X_test (1424, 107)\n",
      "Shape of y_test (1424,)\n"
     ]
    }
   ],
   "source": [
    "from sklearn.model_selection import train_test_split\n",
    "X_train,X_test,y_train,y_test=train_test_split(X,y,test_size=0.2,random_state=51)\n",
    "print('Shape of X_train',X_train.shape)\n",
    "print('Shape of y_train',y_train.shape)\n",
    "print('Shape of X_test',X_test.shape)\n",
    "print('Shape of y_test',y_test.shape)"
   ]
  },
  {
   "cell_type": "code",
   "execution_count": 11,
   "id": "513ec060-e778-4d78-9f05-24809526563f",
   "metadata": {},
   "outputs": [
    {
     "data": {
      "text/plain": [
       "0.9010454281104879"
      ]
     },
     "execution_count": 11,
     "metadata": {},
     "output_type": "execute_result"
    }
   ],
   "source": [
    "from sklearn.ensemble import RandomForestRegressor\n",
    "regressor=RandomForestRegressor(n_estimators=100,criterion='squared_error')\n",
    "regressor.fit(X_train,y_train)\n",
    "regressor.score(X_test,y_test)"
   ]
  },
  {
   "cell_type": "code",
   "execution_count": 13,
   "id": "8f584c99-7117-4dd7-857c-d6f0aeb529ef",
   "metadata": {},
   "outputs": [
    {
     "data": {
      "text/plain": [
       "bath                               2.000000\n",
       "balcony                            0.000000\n",
       "total_sqft_int                  1566.000000\n",
       "bhk                                2.000000\n",
       "price_per_sqft                 11494.252874\n",
       "                                   ...     \n",
       "location_Hosur Road                0.000000\n",
       "location_Horamavu Banaswadi        0.000000\n",
       "location_Domlur                    0.000000\n",
       "location_Mahadevpura               0.000000\n",
       "location_Tumkur Road               0.000000\n",
       "Name: 43, Length: 107, dtype: float64"
      ]
     },
     "execution_count": 13,
     "metadata": {},
     "output_type": "execute_result"
    }
   ],
   "source": [
    "#predict the value of house\n",
    "X_test.iloc[-1,:]"
   ]
  },
  {
   "cell_type": "code",
   "execution_count": 15,
   "id": "d06df9a0-fc08-4849-94f8-c54ee47c4c5b",
   "metadata": {},
   "outputs": [
    {
     "name": "stderr",
     "output_type": "stream",
     "text": [
      "C:\\Users\\HP\\anaconda3\\Lib\\site-packages\\sklearn\\base.py:493: UserWarning: X does not have valid feature names, but RandomForestRegressor was fitted with feature names\n",
      "  warnings.warn(\n"
     ]
    },
    {
     "data": {
      "text/plain": [
       "array([174.27])"
      ]
     },
     "execution_count": 15,
     "metadata": {},
     "output_type": "execute_result"
    }
   ],
   "source": [
    "regressor.predict([X_test.iloc[-1,:]])#2d me"
   ]
  },
  {
   "cell_type": "code",
   "execution_count": 17,
   "id": "7a50a6f4-c277-431b-bc48-1e69c56bff4e",
   "metadata": {},
   "outputs": [
    {
     "data": {
      "text/plain": [
       "180.0"
      ]
     },
     "execution_count": 17,
     "metadata": {},
     "output_type": "execute_result"
    }
   ],
   "source": [
    "y_test.iloc[-1]# last ki actual valu"
   ]
  },
  {
   "cell_type": "code",
   "execution_count": 19,
   "id": "a2cf02c7-e6fd-4249-a42c-6f974ef7b576",
   "metadata": {},
   "outputs": [
    {
     "data": {
      "text/plain": [
       "array([ 80.0134 ,  39.9484 , 119.65   , ...,  33.33535,  63.3486 ,\n",
       "       174.27   ])"
      ]
     },
     "execution_count": 19,
     "metadata": {},
     "output_type": "execute_result"
    }
   ],
   "source": [
    "pred=regressor.predict(X_test)\n",
    "pred"
   ]
  },
  {
   "cell_type": "code",
   "execution_count": 21,
   "id": "2e754d82-e816-4dab-ab45-24c14420747b",
   "metadata": {},
   "outputs": [
    {
     "data": {
      "text/plain": [
       "2435     80.00\n",
       "3113     40.00\n",
       "426     120.00\n",
       "1124     79.00\n",
       "1161     45.00\n",
       "         ...  \n",
       "2078     28.34\n",
       "6855     84.00\n",
       "4381     32.00\n",
       "3862     63.00\n",
       "43      180.00\n",
       "Name: price, Length: 1424, dtype: float64"
      ]
     },
     "execution_count": 21,
     "metadata": {},
     "output_type": "execute_result"
    }
   ],
   "source": [
    "y_test"
   ]
  },
  {
   "cell_type": "code",
   "execution_count": 25,
   "id": "e23994a5-a521-48a3-8c16-54290cb12f84",
   "metadata": {},
   "outputs": [
    {
     "data": {
      "text/plain": [
       "0.8922290337056851"
      ]
     },
     "execution_count": 25,
     "metadata": {},
     "output_type": "execute_result"
    }
   ],
   "source": [
    "from sklearn.ensemble import RandomForestRegressor\n",
    "regressor=RandomForestRegressor(n_estimators=400,criterion='squared_error')\n",
    "regressor.fit(X_train,y_train)\n",
    "regressor.score(X_test,y_test)"
   ]
  },
  {
   "cell_type": "code",
   "execution_count": null,
   "id": "0ecda704-10e8-4acf-9fc2-447cfdd6e8e3",
   "metadata": {},
   "outputs": [],
   "source": []
  },
  {
   "cell_type": "code",
   "execution_count": null,
   "id": "4e54a65b-37de-4aa7-9f31-03976dbf531f",
   "metadata": {},
   "outputs": [],
   "source": []
  },
  {
   "cell_type": "code",
   "execution_count": null,
   "id": "21d304fa-ce52-4ffa-bc05-1f58dfaf8d94",
   "metadata": {},
   "outputs": [],
   "source": []
  },
  {
   "cell_type": "code",
   "execution_count": null,
   "id": "b0dc2060-4120-4392-becc-495922122a0e",
   "metadata": {},
   "outputs": [],
   "source": []
  },
  {
   "cell_type": "code",
   "execution_count": null,
   "id": "9461a72a-b346-4d7a-b850-fff889971a14",
   "metadata": {},
   "outputs": [],
   "source": []
  },
  {
   "cell_type": "code",
   "execution_count": null,
   "id": "4b7e5a7a-f90a-46b7-b076-a061a3513c44",
   "metadata": {},
   "outputs": [],
   "source": []
  },
  {
   "cell_type": "code",
   "execution_count": null,
   "id": "3e5456f5-a617-4a24-92a9-327742d9e0e4",
   "metadata": {},
   "outputs": [],
   "source": []
  },
  {
   "cell_type": "code",
   "execution_count": null,
   "id": "178d761d-ccaa-4d1b-99f3-fedd718cc2c8",
   "metadata": {},
   "outputs": [],
   "source": []
  },
  {
   "cell_type": "code",
   "execution_count": null,
   "id": "76537d94-8b2e-4f97-99cd-28d8166b1dc5",
   "metadata": {},
   "outputs": [],
   "source": []
  },
  {
   "cell_type": "code",
   "execution_count": null,
   "id": "364e1644-7ae4-4965-a293-a0e62c1ace81",
   "metadata": {},
   "outputs": [],
   "source": []
  },
  {
   "cell_type": "code",
   "execution_count": null,
   "id": "7ab0f786-8099-4d20-91d4-ebf289c25774",
   "metadata": {},
   "outputs": [],
   "source": []
  },
  {
   "cell_type": "code",
   "execution_count": null,
   "id": "10796b8c-d632-469d-ab1e-be12bd507c4a",
   "metadata": {},
   "outputs": [],
   "source": []
  },
  {
   "cell_type": "code",
   "execution_count": null,
   "id": "6e400980-175a-48b9-8962-14aac7189b57",
   "metadata": {},
   "outputs": [],
   "source": []
  },
  {
   "cell_type": "code",
   "execution_count": null,
   "id": "ce13f437-5166-43ee-91e6-6ca71341e93c",
   "metadata": {},
   "outputs": [],
   "source": []
  },
  {
   "cell_type": "code",
   "execution_count": null,
   "id": "a4a64c87-be75-4cec-ad66-0ac5fe2194fc",
   "metadata": {},
   "outputs": [],
   "source": []
  },
  {
   "cell_type": "code",
   "execution_count": null,
   "id": "0b52a87f-971e-4190-be1f-08d1d78e6bda",
   "metadata": {},
   "outputs": [],
   "source": []
  }
 ],
 "metadata": {
  "kernelspec": {
   "display_name": "Python 3 (ipykernel)",
   "language": "python",
   "name": "python3"
  },
  "language_info": {
   "codemirror_mode": {
    "name": "ipython",
    "version": 3
   },
   "file_extension": ".py",
   "mimetype": "text/x-python",
   "name": "python",
   "nbconvert_exporter": "python",
   "pygments_lexer": "ipython3",
   "version": "3.12.7"
  }
 },
 "nbformat": 4,
 "nbformat_minor": 5
}
